{
 "cells": [
  {
   "cell_type": "code",
   "execution_count": 1,
   "id": "8833b712",
   "metadata": {},
   "outputs": [],
   "source": [
    "import pandas as pd\n",
    "import numpy as np\n",
    "from tqdm import tqdm\n",
    "tqdm.pandas()\n",
    "\n",
    "\n",
    "from sentence_transformers import SentenceTransformer, util\n",
    "\n",
    "model = SentenceTransformer(\"Linus4Lyf/test-food\")\n"
   ]
  },
  {
   "cell_type": "code",
   "execution_count": 2,
   "id": "7aa1110a",
   "metadata": {},
   "outputs": [
    {
     "data": {
      "text/plain": [
       "281"
      ]
     },
     "execution_count": 2,
     "metadata": {},
     "output_type": "execute_result"
    }
   ],
   "source": [
    "df = pd.read_csv(\"Nutrient_Vals/nut_val_df.csv\")\n",
    "sampled_df = df.sample(frac =.05)\n",
    "len(sampled_df)"
   ]
  },
  {
   "cell_type": "code",
   "execution_count": 3,
   "id": "ec8c9423",
   "metadata": {},
   "outputs": [],
   "source": [
    "labels = [                \n",
    "                \"Fruits and Vegetables\",              \n",
    "                \"Meat\",\n",
    "                \"Dairy\",                                                \n",
    "            ]"
   ]
  },
  {
   "cell_type": "code",
   "execution_count": 4,
   "id": "705a167e",
   "metadata": {},
   "outputs": [
    {
     "name": "stderr",
     "output_type": "stream",
     "text": [
      "100%|████████████████████████████████████████████████████████████████████████████████| 281/281 [00:36<00:00,  7.78it/s]\n"
     ]
    }
   ],
   "source": [
    "import json\n",
    "import requests\n",
    "\n",
    "\n",
    "def generate_label(ex_1, labels):\n",
    "    try:\n",
    "        #Encode query and documents\n",
    "        query = ex_1\n",
    "        docs = labels\n",
    "        query_emb = model.encode(query)\n",
    "        doc_emb = model.encode(docs)\n",
    "\n",
    "        #Compute dot score between query and all document embeddings\n",
    "        scores = util.dot_score(query_emb, doc_emb)[0].cpu().tolist()\n",
    "\n",
    "        #Combine docs & scores\n",
    "        doc_score_pairs = list(zip(docs, scores))\n",
    "\n",
    "        #Sort by decreasing score\n",
    "        doc_score_pairs = sorted(doc_score_pairs, key=lambda x: x[1], reverse=True)        \n",
    "        if doc_score_pairs[0][1] > 4.0:\n",
    "            return doc_score_pairs[0][0]\n",
    "        else:\n",
    "            return ex_1.split(\",\")[0]\n",
    "    except Exception as e:\n",
    "        print(e)\n",
    "        return \" \"\n",
    "\n",
    "sampled_df[\"label_foods\"] = sampled_df[\"Main food description\"].progress_apply(lambda x: generate_label(x, labels))"
   ]
  }
 ],
 "metadata": {
  "kernelspec": {
   "display_name": "Python 3 (ipykernel)",
   "language": "python",
   "name": "python3"
  },
  "language_info": {
   "codemirror_mode": {
    "name": "ipython",
    "version": 3
   },
   "file_extension": ".py",
   "mimetype": "text/x-python",
   "name": "python",
   "nbconvert_exporter": "python",
   "pygments_lexer": "ipython3",
   "version": "3.9.12"
  }
 },
 "nbformat": 4,
 "nbformat_minor": 5
}
