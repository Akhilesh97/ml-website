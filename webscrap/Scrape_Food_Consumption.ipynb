{
 "cells": [
  {
   "cell_type": "code",
   "execution_count": 1,
   "id": "5a955a5d",
   "metadata": {},
   "outputs": [],
   "source": [
    "from selenium import webdriver\n",
    "from selenium.webdriver.chrome.service import Service\n",
    "from selenium.webdriver.support.ui import WebDriverWait\n",
    "from selenium.webdriver.common.by import By\n",
    "from selenium.webdriver.support import expected_conditions as EC\n",
    "from bs4 import BeautifulSoup\n",
    "import codecs\n",
    "import re\n",
    "from webdriver_manager.chrome import ChromeDriverManager\n"
   ]
  },
  {
   "cell_type": "code",
   "execution_count": 2,
   "id": "126b7b89",
   "metadata": {},
   "outputs": [
    {
     "name": "stderr",
     "output_type": "stream",
     "text": [
      "C:\\Users\\Akhilesh\\AppData\\Local\\Temp\\ipykernel_84944\\3484349789.py:7: DeprecationWarning: use options instead of chrome_options\n",
      "  driver = webdriver.Chrome(executable_path=DRIVER_PATH, chrome_options=chrome_options)\n"
     ]
    }
   ],
   "source": [
    "from selenium import webdriver\n",
    "\n",
    "DRIVER_PATH = 'chromedriver'\n",
    "chrome_options = webdriver.ChromeOptions()\n",
    "prefs = {'download.default_directory' : r'C:\\Users\\Akhilesh\\Documents\\Spring22\\Machine Learning\\Project_Food_Consumption\\Food_Consumption'}\n",
    "chrome_options.add_experimental_option('prefs', prefs)\n",
    "driver = webdriver.Chrome(executable_path=DRIVER_PATH, chrome_options=chrome_options)\n",
    "driver.implicitly_wait(10)\n",
    "driver.get(\"https://www.ers.usda.gov/data-products/food-consumption-and-nutrient-intakes/\")"
   ]
  },
  {
   "cell_type": "code",
   "execution_count": null,
   "id": "8230cfc2",
   "metadata": {},
   "outputs": [],
   "source": [
    "//*[@id=\"primary\"]/table/tbody"
   ]
  },
  {
   "cell_type": "code",
   "execution_count": 3,
   "id": "6e325e3d",
   "metadata": {},
   "outputs": [],
   "source": [
    "row = driver.find_elements(By.XPATH, '//*[@id=\"primary\"]/table/tbody/tr')"
   ]
  },
  {
   "cell_type": "code",
   "execution_count": 4,
   "id": "51c22d55",
   "metadata": {},
   "outputs": [
    {
     "data": {
      "text/plain": [
       "9"
      ]
     },
     "execution_count": 4,
     "metadata": {},
     "output_type": "execute_result"
    }
   ],
   "source": [
    "len(row)"
   ]
  },
  {
   "cell_type": "code",
   "execution_count": 5,
   "id": "f791c282",
   "metadata": {},
   "outputs": [],
   "source": [
    "col = driver.find_elements(By.XPATH, '//*[@id=\"primary\"]/table/tbody/tr[2]/td')"
   ]
  },
  {
   "cell_type": "code",
   "execution_count": 6,
   "id": "ed43c614",
   "metadata": {},
   "outputs": [],
   "source": [
    "row_count = len(row)\n",
    "col_count = len(col)"
   ]
  },
  {
   "cell_type": "code",
   "execution_count": 8,
   "id": "1f350bdb",
   "metadata": {},
   "outputs": [
    {
     "name": "stdout",
     "output_type": "stream",
     "text": [
      "Average daily intake of food by food source and demographic characteristics, 2015–16 and 2017–18\n",
      "Food density by food source and demographic characteristics, 2015–16 and 2017–18\n",
      "Benchmark food density-recommended food intake per 1,000 calorie intake\n",
      "Message: no such element: Unable to locate element: {\"method\":\"tag name\",\"selector\":\"a\"}\n",
      "  (Session info: chrome=108.0.5359.125)\n",
      "Stacktrace:\n",
      "Backtrace:\n",
      "\t(No symbol) [0x004BF243]\n",
      "\t(No symbol) [0x00447FD1]\n",
      "\t(No symbol) [0x0033D04D]\n",
      "\t(No symbol) [0x0036C0B0]\n",
      "\t(No symbol) [0x0036C22B]\n",
      "\t(No symbol) [0x00362CA1]\n",
      "\t(No symbol) [0x003885D4]\n",
      "\t(No symbol) [0x00362BFF]\n",
      "\t(No symbol) [0x00388804]\n",
      "\t(No symbol) [0x0039C9EB]\n",
      "\t(No symbol) [0x00388386]\n",
      "\t(No symbol) [0x0036163C]\n",
      "\t(No symbol) [0x0036269D]\n",
      "\tGetHandleVerifier [0x00759A22+2655074]\n",
      "\tGetHandleVerifier [0x0074CA24+2601828]\n",
      "\tGetHandleVerifier [0x00568C0A+619850]\n",
      "\tGetHandleVerifier [0x00567830+614768]\n",
      "\t(No symbol) [0x004505FC]\n",
      "\t(No symbol) [0x00455968]\n",
      "\t(No symbol) [0x00455A55]\n",
      "\t(No symbol) [0x0046051B]\n",
      "\tBaseThreadInitThunk [0x76916BD9+25]\n",
      "\tRtlGetFullPathName_UEx [0x77B88FD2+1218]\n",
      "\tRtlGetFullPathName_UEx [0x77B88F9D+1165]\n",
      "\n",
      "Average daily intake of nutrients by food source and demographic characteristics, 2015–16 and 2017–18\n",
      "Nutrient density by food source and demographic characteristics, 2015–16 and 2017–18\n",
      "Message: no such element: Unable to locate element: {\"method\":\"tag name\",\"selector\":\"a\"}\n",
      "  (Session info: chrome=108.0.5359.125)\n",
      "Stacktrace:\n",
      "Backtrace:\n",
      "\t(No symbol) [0x004BF243]\n",
      "\t(No symbol) [0x00447FD1]\n",
      "\t(No symbol) [0x0033D04D]\n",
      "\t(No symbol) [0x0036C0B0]\n",
      "\t(No symbol) [0x0036C22B]\n",
      "\t(No symbol) [0x00362CA1]\n",
      "\t(No symbol) [0x003885D4]\n",
      "\t(No symbol) [0x00362BFF]\n",
      "\t(No symbol) [0x00388804]\n",
      "\t(No symbol) [0x0039C9EB]\n",
      "\t(No symbol) [0x00388386]\n",
      "\t(No symbol) [0x0036163C]\n",
      "\t(No symbol) [0x0036269D]\n",
      "\tGetHandleVerifier [0x00759A22+2655074]\n",
      "\tGetHandleVerifier [0x0074CA24+2601828]\n",
      "\tGetHandleVerifier [0x00568C0A+619850]\n",
      "\tGetHandleVerifier [0x00567830+614768]\n",
      "\t(No symbol) [0x004505FC]\n",
      "\t(No symbol) [0x00455968]\n",
      "\t(No symbol) [0x00455A55]\n",
      "\t(No symbol) [0x0046051B]\n",
      "\tBaseThreadInitThunk [0x76916BD9+25]\n",
      "\tRtlGetFullPathName_UEx [0x77B88FD2+1218]\n",
      "\tRtlGetFullPathName_UEx [0x77B88F9D+1165]\n",
      "\n",
      "Data on food consumption and nutrient intake by food source and demographic characteristics, 2007-10\n"
     ]
    }
   ],
   "source": [
    "li = []\n",
    "for i in range (2, row_count + 1) :\n",
    "    # to traverse through the table column\n",
    "    sub_li = []\n",
    "    for j in range (1, col_count-1) :\n",
    "        # to get all the cell data with text method\n",
    "        try:\n",
    "            d = driver.find_element(By.XPATH, \"//tr[\"+str(i)+\"]/td[\"+str(j)+\"]\")\n",
    "            link = d.find_element(By.TAG_NAME, \"a\")            \n",
    "            print (d.text)\n",
    "            link.click()\n",
    "        except Exception as e:\n",
    "            print(e)\n",
    "            pass\n",
    "        "
   ]
  }
 ],
 "metadata": {
  "kernelspec": {
   "display_name": "Python 3 (ipykernel)",
   "language": "python",
   "name": "python3"
  },
  "language_info": {
   "codemirror_mode": {
    "name": "ipython",
    "version": 3
   },
   "file_extension": ".py",
   "mimetype": "text/x-python",
   "name": "python",
   "nbconvert_exporter": "python",
   "pygments_lexer": "ipython3",
   "version": "3.9.12"
  }
 },
 "nbformat": 4,
 "nbformat_minor": 5
}
